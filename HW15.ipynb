{
 "cells": [
  {
   "cell_type": "code",
   "execution_count": 19,
   "id": "538b91a7-f523-481f-af0e-3c595dff4814",
   "metadata": {},
   "outputs": [
    {
     "name": "stdout",
     "output_type": "stream",
     "text": [
      "Recommended lengths: [2, 3]\n",
      "Maximum obtainable value: 13\n"
     ]
    }
   ],
   "source": [
    "def rod_cutting(n, prices):\n",
    "    max_prices = [0] * (n + 1)\n",
    "    cuts = [0] * (n + 1)\n",
    "\n",
    "    for length in range(1, n + 1):\n",
    "        for cut_length in range(1, length + 1):\n",
    "            if cut_length <= len(prices):\n",
    "                current_price = prices[cut_length - 1] \n",
    "                if max_prices[length] < current_price + max_prices[length - cut_length]:\n",
    "                    max_prices[length] = current_price + max_prices[length - cut_length]\n",
    "                    cuts[length] = cut_length \n",
    "\n",
    "    recommended_lengths = []\n",
    "    while n > 0:\n",
    "        recommended_lengths.append(cuts[n])\n",
    "        n -= cuts[n]\n",
    "\n",
    "    return recommended_lengths, max_prices[-1]\n",
    "rod_length = 5\n",
    "prices = [1, 5, 8, 9, 10, 17, 17, 20]\n",
    "recommended_lengths, max_value = rod_cutting(rod_length, prices)\n",
    "\n",
    "print(\"Recommended lengths:\", recommended_lengths)\n",
    "print(\"Maximum obtainable value:\", max_value)"
   ]
  },
  {
   "cell_type": "code",
   "execution_count": null,
   "id": "2a356b3c-04ce-45ba-8489-60e16a72624d",
   "metadata": {},
   "outputs": [],
   "source": []
  }
 ],
 "metadata": {
  "kernelspec": {
   "display_name": "Python 3 (ipykernel)",
   "language": "python",
   "name": "python3"
  },
  "language_info": {
   "codemirror_mode": {
    "name": "ipython",
    "version": 3
   },
   "file_extension": ".py",
   "mimetype": "text/x-python",
   "name": "python",
   "nbconvert_exporter": "python",
   "pygments_lexer": "ipython3",
   "version": "3.10.9"
  }
 },
 "nbformat": 4,
 "nbformat_minor": 5
}
